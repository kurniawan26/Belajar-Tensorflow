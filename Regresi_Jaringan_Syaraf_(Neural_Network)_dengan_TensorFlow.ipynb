{
  "nbformat": 4,
  "nbformat_minor": 0,
  "metadata": {
    "colab": {
      "name": "Regresi Jaringan Syaraf (Neural Network) dengan TensorFlow.ipynb",
      "provenance": [],
      "collapsed_sections": [],
      "authorship_tag": "ABX9TyOaiH5896ygWZY2h7CDmmnH",
      "include_colab_link": true
    },
    "kernelspec": {
      "name": "python3",
      "display_name": "Python 3"
    },
    "language_info": {
      "name": "python"
    }
  },
  "cells": [
    {
      "cell_type": "markdown",
      "metadata": {
        "id": "view-in-github",
        "colab_type": "text"
      },
      "source": [
        "<a href=\"https://colab.research.google.com/github/kurniawan26/Belajar-Tensorflow/blob/main/Regresi_Jaringan_Syaraf_(Neural_Network)_dengan_TensorFlow.ipynb\" target=\"_parent\"><img src=\"https://colab.research.google.com/assets/colab-badge.svg\" alt=\"Open In Colab\"/></a>"
      ]
    },
    {
      "cell_type": "markdown",
      "source": [
        "# Perkenalan untuk Regresi Jaringan Syaraf dengan TensorFlow\n",
        "\n",
        "Sebenarnya banyak definisi mengenai permasalahan regresi namun dalam kasus ini, kita akan menyederhanakannya : memprediksi sebuah angka berdasarkan beberapa pola variabel, lebih mudahnya yaitu memprediksi sebuah angka"
      ],
      "metadata": {
        "id": "J-75pEKoF0j3"
      }
    },
    {
      "cell_type": "code",
      "source": [
        "# Impor Tensorflow\n",
        "import tensorflow as tf\n",
        "print(tf.__version__)"
      ],
      "metadata": {
        "colab": {
          "base_uri": "https://localhost:8080/"
        },
        "id": "fT14F-rEF8nC",
        "outputId": "61a30175-9100-4434-ba05-acfebc6da37d"
      },
      "execution_count": 1,
      "outputs": [
        {
          "output_type": "stream",
          "name": "stdout",
          "text": [
            "2.8.0\n"
          ]
        }
      ]
    },
    {
      "cell_type": "markdown",
      "source": [
        "## Membuat sebuah data untuk ditampilkan"
      ],
      "metadata": {
        "id": "4FS2yd3zGs43"
      }
    },
    {
      "cell_type": "code",
      "source": [
        "import numpy as np\n",
        "import matplotlib.pyplot as plt\n",
        "\n",
        "# Membuat sebuah fitur\n",
        "X = np.array([-7.0, -4.0, -1.0, 2.0, 5.0, 8.0, 11.0, 14.0])\n",
        "\n",
        "# Buat label\n",
        "y = np.array([3.0, 6.0, 9.0, 12.0, 15.0, 18.0, 21.0, 24.0])\n",
        "\n",
        "# Mencoba untuk memvisualisasikannya\n",
        "plt.scatter(X, y)"
      ],
      "metadata": {
        "colab": {
          "base_uri": "https://localhost:8080/",
          "height": 286
        },
        "id": "wok2Hp_QGzVb",
        "outputId": "f751827a-b986-4d14-d3fb-3a548d3211c3"
      },
      "execution_count": 2,
      "outputs": [
        {
          "output_type": "execute_result",
          "data": {
            "text/plain": [
              "<matplotlib.collections.PathCollection at 0x7fbfb13b2590>"
            ]
          },
          "metadata": {},
          "execution_count": 2
        },
        {
          "output_type": "display_data",
          "data": {
            "text/plain": [
              "<Figure size 432x288 with 1 Axes>"
            ],
            "image/png": "[encoded data removed]"
          },
          "metadata": {
            "needs_background": "light"
          }
        }
      ]
    },
    {
      "cell_type": "code",
      "source": [
        "y == X + 10"
      ],
      "metadata": {
        "colab": {
          "base_uri": "https://localhost:8080/"
        },
        "id": "_-iQLc0WHf6_",
        "outputId": "89dac68e-c472-4e7c-eb36-0a7a8ef5bb36"
      },
      "execution_count": 5,
      "outputs": [
        {
          "output_type": "execute_result",
          "data": {
            "text/plain": [
              "array([ True,  True,  True,  True,  True,  True,  True,  True])"
            ]
          },
          "metadata": {},
          "execution_count": 5
        }
      ]
    },
    {
      "cell_type": "markdown",
      "source": [
        "## Pola dari sebuah masukan dan keluaran"
      ],
      "metadata": {
        "id": "rYr9Mm83ICqY"
      }
    },
    {
      "cell_type": "code",
      "source": [
        "# Membuat sebuah contoh tensor dari kasus prediksi harga jual rumah\n",
        "house_info = tf.constant([\"bedroom\", \"bathroom\", \"garage\"])\n",
        "house_price = tf.constant([939700])\n",
        "house_info, house_price"
      ],
      "metadata": {
        "colab": {
          "base_uri": "https://localhost:8080/"
        },
        "id": "2wmbzz1iIGHO",
        "outputId": "f9a24264-79a8-41bd-cccd-d26f79a9f856"
      },
      "execution_count": 9,
      "outputs": [
        {
          "output_type": "execute_result",
          "data": {
            "text/plain": [
              "(<tf.Tensor: shape=(3,), dtype=string, numpy=array([b'bedroom', b'bathroom', b'garage'], dtype=object)>,\n",
              " <tf.Tensor: shape=(1,), dtype=int32, numpy=array([939700], dtype=int32)>)"
            ]
          },
          "metadata": {},
          "execution_count": 9
        }
      ]
    },
    {
      "cell_type": "code",
      "source": [
        "input_shape = X.shape\n",
        "output_shape = y.shape\n",
        "input_shape, output_shape"
      ],
      "metadata": {
        "colab": {
          "base_uri": "https://localhost:8080/"
        },
        "id": "MuGIpZMeIpHw",
        "outputId": "ab10f49e-020f-4b25-ba74-b3a794548316"
      },
      "execution_count": 10,
      "outputs": [
        {
          "output_type": "execute_result",
          "data": {
            "text/plain": [
              "((8,), (8,))"
            ]
          },
          "metadata": {},
          "execution_count": 10
        }
      ]
    },
    {
      "cell_type": "code",
      "source": [
        "# memasangkan sebuah Numpy kedalam tensors\n",
        "X = tf.cast(tf.constant(X), dtype=tf.float32)\n",
        "y = tf.cast(tf.constant(y), dtype=tf.float32)\n",
        "X, y"
      ],
      "metadata": {
        "colab": {
          "base_uri": "https://localhost:8080/"
        },
        "id": "ZBwu-zuuJEXf",
        "outputId": "ce297cfb-f016-4474-d8dd-9a8cd64569cd"
      },
      "execution_count": 20,
      "outputs": [
        {
          "output_type": "execute_result",
          "data": {
            "text/plain": [
              "(<tf.Tensor: shape=(8,), dtype=float32, numpy=array([-7., -4., -1.,  2.,  5.,  8., 11., 14.], dtype=float32)>,\n",
              " <tf.Tensor: shape=(8,), dtype=float32, numpy=array([ 3.,  6.,  9., 12., 15., 18., 21., 24.], dtype=float32)>)"
            ]
          },
          "metadata": {},
          "execution_count": 20
        }
      ]
    },
    {
      "cell_type": "code",
      "source": [
        "input_shape = X[0].shape\n",
        "output_shape = y[0].shape\n",
        "input_shape, output_shape"
      ],
      "metadata": {
        "colab": {
          "base_uri": "https://localhost:8080/"
        },
        "id": "gHGit1FURI4n",
        "outputId": "5cc04999-f810-4482-e50c-d2b76252dc7e"
      },
      "execution_count": 13,
      "outputs": [
        {
          "output_type": "execute_result",
          "data": {
            "text/plain": [
              "(TensorShape([]), TensorShape([]))"
            ]
          },
          "metadata": {},
          "execution_count": 13
        }
      ]
    },
    {
      "cell_type": "code",
      "source": [
        "plt.scatter(X, y)"
      ],
      "metadata": {
        "colab": {
          "base_uri": "https://localhost:8080/",
          "height": 286
        },
        "id": "nZyNivdyRQ_E",
        "outputId": "8c90137a-e522-495c-fe0a-3b2bcaecfec8"
      },
      "execution_count": 14,
      "outputs": [
        {
          "output_type": "execute_result",
          "data": {
            "text/plain": [
              "<matplotlib.collections.PathCollection at 0x7fbfac43b410>"
            ]
          },
          "metadata": {},
          "execution_count": 14
        },
        {
          "output_type": "display_data",
          "data": {
            "text/plain": [
              "<Figure size 432x288 with 1 Axes>"
            ],
            "image/png": "[encoded data removed]"
          },
          "metadata": {
            "needs_background": "light"
          }
        }
      ]
    },
    {
      "cell_type": "markdown",
      "source": [
        "## Langkah - langkah dalam merancang model dengan TensorFlow\n",
        "\n",
        "1. **Membuat sebuah model** - mendefinisikan sebuah masukan dan keluaran, dengan baik sebagaimana hidden layer dari sebuah model deep learning\n",
        "2. **Menyusun sebuah model** - mendefinisikan fungsi yang hilang, (atau dengan kata lain yaitu fungsi yang menyatakan seberapa salahkah dia), dan sebuah pengoptimalan (yang menyampaikan bagaimana untuk memperbaiki model pembelajarannya), dan evaluasi metric atau apa yang dapat kita gunakan untuk menginterpetasi dari performa model kita\n",
        "3. **Menyesuaikan sebuah model** - membiarkan untuk model agar mencoba menemukan pola diantara X & y"
      ],
      "metadata": {
        "id": "0qveCY7VReAi"
      }
    },
    {
      "cell_type": "code",
      "source": [
        "# Menentukan sebuah data acak\n",
        "tf.random.set_seed(42)\n",
        "\n",
        "# 1. Membuat sebuah model dengan Sekuensial API\n",
        "model = tf.keras.Sequential([\n",
        "  tf.keras.layers.Dense(1)\n",
        "])\n",
        "\n",
        "# 2. Menyusun (Compile) sebuah model\n",
        "model.compile(loss=tf.keras.losses.mae, # mae adalah kependekan dari arti mean absolute error\n",
        "              optimizer=tf.keras.optimizers.SGD(), # sgd adalah kependekan dari stochastic gradient descent\n",
        "              metrics=['mae'])\n",
        "\n",
        "# 3. Mencocokan sebuah model\n",
        "model.fit(tf.expand_dims(X, axis=-1), y, epochs=5)\n",
        "\n"
      ],
      "metadata": {
        "colab": {
          "base_uri": "https://localhost:8080/"
        },
        "id": "CHmONYdWRoOn",
        "outputId": "e5493c19-f58a-4f2a-8f4c-52e80e9c36db"
      },
      "execution_count": 21,
      "outputs": [
        {
          "output_type": "stream",
          "name": "stdout",
          "text": [
            "Epoch 1/5\n",
            "1/1 [==============================] - 1s 566ms/step - loss: 11.5048 - mae: 11.5048\n",
            "Epoch 2/5\n",
            "1/1 [==============================] - 0s 24ms/step - loss: 11.3723 - mae: 11.3723\n",
            "Epoch 3/5\n",
            "1/1 [==============================] - 0s 17ms/step - loss: 11.2398 - mae: 11.2398\n",
            "Epoch 4/5\n",
            "1/1 [==============================] - 0s 17ms/step - loss: 11.1073 - mae: 11.1073\n",
            "Epoch 5/5\n",
            "1/1 [==============================] - 0s 13ms/step - loss: 10.9748 - mae: 10.9748\n"
          ]
        },
        {
          "output_type": "execute_result",
          "data": {
            "text/plain": [
              "<keras.callbacks.History at 0x7fbfa641ba90>"
            ]
          },
          "metadata": {},
          "execution_count": 21
        }
      ]
    },
    {
      "cell_type": "code",
      "source": [
        "# Check out X dan y\n",
        "X, y"
      ],
      "metadata": {
        "colab": {
          "base_uri": "https://localhost:8080/"
        },
        "id": "XXqnDBMJYvdt",
        "outputId": "b5094c1c-5c98-4866-acfb-212c42c89528"
      },
      "execution_count": 23,
      "outputs": [
        {
          "output_type": "execute_result",
          "data": {
            "text/plain": [
              "(<tf.Tensor: shape=(8,), dtype=float32, numpy=array([-7., -4., -1.,  2.,  5.,  8., 11., 14.], dtype=float32)>,\n",
              " <tf.Tensor: shape=(8,), dtype=float32, numpy=array([ 3.,  6.,  9., 12., 15., 18., 21., 24.], dtype=float32)>)"
            ]
          },
          "metadata": {},
          "execution_count": 23
        }
      ]
    },
    {
      "cell_type": "code",
      "source": [
        "# Mencoba dan membuat sebuah prediksi menggunakan model kita\n",
        "model.predict([17.0])"
      ],
      "metadata": {
        "colab": {
          "base_uri": "https://localhost:8080/"
        },
        "id": "MSyF6poobLcR",
        "outputId": "ec321f73-f8c8-4804-b140-3e2547053c0e"
      },
      "execution_count": 24,
      "outputs": [
        {
          "output_type": "execute_result",
          "data": {
            "text/plain": [
              "array([[12.716021]], dtype=float32)"
            ]
          },
          "metadata": {},
          "execution_count": 24
        }
      ]
    },
    {
      "cell_type": "code",
      "source": [
        ""
      ],
      "metadata": {
        "id": "Zj0eqqSKbfKL"
      },
      "execution_count": null,
      "outputs": []
    }
  ]
}