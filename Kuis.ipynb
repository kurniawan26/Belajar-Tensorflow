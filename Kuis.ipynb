{
  "nbformat": 4,
  "nbformat_minor": 0,
  "metadata": {
    "colab": {
      "name": "Kuis.ipynb",
      "provenance": [],
      "collapsed_sections": [],
      "authorship_tag": "ABX9TyOYf/BKEc657xzPLa2HdMJp"
    },
    "kernelspec": {
      "name": "python3",
      "display_name": "Python 3"
    },
    "language_info": {
      "name": "python"
    }
  },
  "cells": [
    {
      "cell_type": "markdown",
      "source": [
        "Fauzi Kurniawan - 1903015029\n",
        "\n",
        "Praktikum Pemrograman dan keamanan Jaringan\n",
        "\n",
        "\n",
        "---\n",
        "\n",
        "\n",
        "\n",
        "\n"
      ],
      "metadata": {
        "id": "A9ysGfdcScc3"
      }
    },
    {
      "cell_type": "markdown",
      "source": [
        "### Membuat aritmatika menghitung luas segitiga"
      ],
      "metadata": {
        "id": "DGBuGIMYQnE3"
      }
    },
    {
      "cell_type": "code",
      "source": [
        "a = float(input(\"\\nMasukan Alas  : \"))\n",
        "t = float(input(\"Masukan Tinggi: \"))\n",
        "\n",
        "luas = 0.5*a*t\n",
        "\n",
        "print(\"\\nLuas Segitiga  = %0.2f\" % luas)"
      ],
      "metadata": {
        "colab": {
          "base_uri": "https://localhost:8080/"
        },
        "id": "nKO4bjzqRB63",
        "outputId": "7f610e56-e44b-46b5-830f-275a145a1a8a"
      },
      "execution_count": 1,
      "outputs": [
        {
          "output_type": "stream",
          "name": "stdout",
          "text": [
            "\n",
            "Masukan Alas  : 20\n",
            "Masukan Tinggi: 10\n",
            "\n",
            "Luas Segitiga  = 100.00\n"
          ]
        }
      ]
    },
    {
      "cell_type": "markdown",
      "source": [
        "### Membuat aritmatika menghitung luas lingkaran"
      ],
      "metadata": {
        "id": "wgAuo4fCRQ-0"
      }
    },
    {
      "cell_type": "code",
      "source": [
        "phi = 3.14\n",
        "r = float(input(\"Masukkan panjang jari-jari lingkaran: \"))\n",
        "luas = phi*r*r\n",
        "print(\"Luas lingkaran adalah : \"+ str(luas))"
      ],
      "metadata": {
        "colab": {
          "base_uri": "https://localhost:8080/"
        },
        "id": "F1zKzmgJRNl6",
        "outputId": "8f4463b7-05cb-4ba3-a66a-7ae4386b55ac"
      },
      "execution_count": 2,
      "outputs": [
        {
          "output_type": "stream",
          "name": "stdout",
          "text": [
            "Masukkan panjang jari-jari lingkaran: 3\n",
            "Luas lingkaran adalah : 28.259999999999998\n"
          ]
        }
      ]
    },
    {
      "cell_type": "markdown",
      "source": [
        "### Membuat aritmatika menghitung persegi"
      ],
      "metadata": {
        "id": "z7c3PakiRr40"
      }
    },
    {
      "cell_type": "code",
      "source": [
        "s = float(input(\"\\nMasukan Panjang Sisi: \"))\n",
        "\n",
        "luas = s**2\n",
        "keliling = 4 * s\n",
        "\n",
        "print(\"\\nLuas Persegi \\t\\t:\",luas)\n",
        "print(\"Keliling Persegi\\t:\",keliling)"
      ],
      "metadata": {
        "colab": {
          "base_uri": "https://localhost:8080/"
        },
        "id": "8ZPN3noVRjBe",
        "outputId": "6bf10260-5107-4d60-adc6-9a58da030e5e"
      },
      "execution_count": 3,
      "outputs": [
        {
          "output_type": "stream",
          "name": "stdout",
          "text": [
            "\n",
            "Masukan Panjang Sisi: 4\n",
            "\n",
            "Luas Persegi \t\t: 16.0\n",
            "Keliling Persegi\t: 16.0\n"
          ]
        }
      ]
    },
    {
      "cell_type": "markdown",
      "source": [
        "### Membuat aritmatika menghitung persegi panjang"
      ],
      "metadata": {
        "id": "4sFoR5TKSI6T"
      }
    },
    {
      "cell_type": "code",
      "source": [
        "panjang = float(input(\"\\nMasukan Panjang: \"))\n",
        "lebar = float(input(\"Masukan Lebar: \"))\n",
        "\n",
        "luas = panjang*lebar\n",
        "keliling = 2 * (panjang+lebar)\n",
        "\n",
        "print(\"\\nLuas Persegi Panjang \\t\\t:\",luas)\n",
        "print(\"Keliling Persegi Panjang\\t:\",keliling)"
      ],
      "metadata": {
        "colab": {
          "base_uri": "https://localhost:8080/"
        },
        "id": "rYZE0S6nR7Jt",
        "outputId": "4b594b5f-bb2d-4cf2-eda6-e9e02100eb2a"
      },
      "execution_count": 4,
      "outputs": [
        {
          "output_type": "stream",
          "name": "stdout",
          "text": [
            "\n",
            "Masukan Panjang: 5\n",
            "Masukan Lebar: 3\n",
            "\n",
            "Luas Persegi Panjang \t\t: 15.0\n",
            "Keliling Persegi Panjang\t: 16.0\n"
          ]
        }
      ]
    },
    {
      "cell_type": "markdown",
      "source": [
        "### Membuat Algoritma Deret Aritmatika"
      ],
      "metadata": {
        "id": "6Egu104zNDuN"
      }
    },
    {
      "cell_type": "code",
      "execution_count": 5,
      "metadata": {
        "colab": {
          "base_uri": "https://localhost:8080/"
        },
        "id": "g23iKA_uM42I",
        "outputId": "ff1e6d15-58e2-48c4-bee8-738b3c3cabac"
      },
      "outputs": [
        {
          "output_type": "stream",
          "name": "stdout",
          "text": [
            "1\n",
            "4\n",
            "7\n",
            "10\n",
            "13\n",
            "16\n",
            "19\n",
            "22\n",
            "25\n",
            "28\n",
            "Sn = 175\n"
          ]
        }
      ],
      "source": [
        "a = 1\n",
        "b = 3\n",
        "n = 0\n",
        "hasil = 0\n",
        "while True:\n",
        "    if n < 10:\n",
        "        print(a)\n",
        "        n = n + 1\n",
        "        a = a + b\n",
        "        hasil = hasil + a\n",
        "    else:\n",
        "        break\n",
        "        \n",
        "print(\"Sn = {}\".format(hasil))"
      ]
    },
    {
      "cell_type": "markdown",
      "source": [
        "### Membuat Algortima Bilangan Prima"
      ],
      "metadata": {
        "id": "0qCCDFpCN5v4"
      }
    },
    {
      "cell_type": "code",
      "source": [
        "# Membuat fungsi yang menyatakan dia prima atau bukan\n",
        "def is_prima (x):\n",
        "  for i in range(2, x):\n",
        "    if x % i == 0:\n",
        "      return False\n",
        "\n",
        "  return True"
      ],
      "metadata": {
        "id": "5Mzev3_bNMsj"
      },
      "execution_count": 6,
      "outputs": []
    },
    {
      "cell_type": "code",
      "source": [
        "# Membuat fungsi cari bilangan prima\n",
        "def cari_bilangan_prima (awal, akhir):\n",
        "  list_bilangan_prima = []\n",
        "\n",
        "  for x in range(awal, akhir + 1):\n",
        "    if is_prima(x):\n",
        "      list_bilangan_prima.append(x)\n",
        "\n",
        "  return list_bilangan_prima"
      ],
      "metadata": {
        "id": "Zf4PFpLuNNp2"
      },
      "execution_count": 7,
      "outputs": []
    },
    {
      "cell_type": "code",
      "source": [
        "# Mencari Bilangan Prima antara 100 sampai 150\n",
        "print(cari_bilangan_prima(100, 150))"
      ],
      "metadata": {
        "colab": {
          "base_uri": "https://localhost:8080/"
        },
        "id": "vlcZ9b5TNgE2",
        "outputId": "38f72f9a-af9b-4b93-cb59-5d85d4d97594"
      },
      "execution_count": 8,
      "outputs": [
        {
          "output_type": "stream",
          "name": "stdout",
          "text": [
            "[101, 103, 107, 109, 113, 127, 131, 137, 139, 149]\n"
          ]
        }
      ]
    },
    {
      "cell_type": "markdown",
      "source": [
        "### Membuat Algortima Bilangan Ganjil - Genap"
      ],
      "metadata": {
        "id": "CcSPoIvNOBCK"
      }
    },
    {
      "cell_type": "code",
      "source": [
        "num = int(input(\"Enter a number: \"))\n",
        "if (num % 2) == 0:\n",
        "   print(\"{0} is Even\".format(num))\n",
        "else:\n",
        "   print(\"{0} is Odd\".format(num))"
      ],
      "metadata": {
        "colab": {
          "base_uri": "https://localhost:8080/"
        },
        "id": "GQNIhoMGOFiV",
        "outputId": "feab5218-e3a5-45c7-d495-24e5f42e2fd3"
      },
      "execution_count": 9,
      "outputs": [
        {
          "output_type": "stream",
          "name": "stdout",
          "text": [
            "Enter a number: 8\n",
            "8 is Even\n"
          ]
        }
      ]
    },
    {
      "cell_type": "markdown",
      "source": [
        "---"
      ],
      "metadata": {
        "id": "tDiU3cJKS1sP"
      }
    }
  ]
}